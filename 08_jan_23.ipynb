{
  "nbformat": 4,
  "nbformat_minor": 0,
  "metadata": {
    "colab": {
      "provenance": [],
      "toc_visible": true,
      "authorship_tag": "ABX9TyOVHBrdrLKyjeg0DkNJCOZ+",
      "include_colab_link": true
    },
    "kernelspec": {
      "name": "python3",
      "display_name": "Python 3"
    },
    "language_info": {
      "name": "python"
    }
  },
  "cells": [
    {
      "cell_type": "markdown",
      "metadata": {
        "id": "view-in-github",
        "colab_type": "text"
      },
      "source": [
        "<a href=\"https://colab.research.google.com/github/RJmini/Python/blob/main/08_jan_23.ipynb\" target=\"_parent\"><img src=\"https://colab.research.google.com/assets/colab-badge.svg\" alt=\"Open In Colab\"/></a>"
      ]
    },
    {
      "cell_type": "code",
      "execution_count": null,
      "metadata": {
        "colab": {
          "base_uri": "https://localhost:8080/"
        },
        "id": "w8o12lS9iCcH",
        "outputId": "55c505c4-5bc1-4f2b-c805-10f0b2e107a7"
      },
      "outputs": [
        {
          "name": "stdout",
          "output_type": "stream",
          "text": [
            "Please enter your nameMeenakshi Jaiswal\n"
          ]
        }
      ],
      "source": [
        "name = input(\"Please enter your name \")"
      ]
    },
    {
      "cell_type": "code",
      "source": [
        "print(\"Hi,\",name,\"welcome to the  programming in python & data science\")"
      ],
      "metadata": {
        "colab": {
          "base_uri": "https://localhost:8080/"
        },
        "id": "gAv37kCkiJhd",
        "outputId": "d4533232-96e6-47af-f441-c7170fd9faf3"
      },
      "execution_count": null,
      "outputs": [
        {
          "output_type": "stream",
          "name": "stdout",
          "text": [
            "Hi, Meenakshi Jaiswal welcome to the  programming in python & data science\n"
          ]
        }
      ]
    },
    {
      "cell_type": "code",
      "source": [
        "print(name,\"freak out with Python\")"
      ],
      "metadata": {
        "colab": {
          "base_uri": "https://localhost:8080/"
        },
        "id": "4Fgm4ugikCM2",
        "outputId": "f800db1f-3515-4e51-fd4f-08e5c43af1e7"
      },
      "execution_count": null,
      "outputs": [
        {
          "output_type": "stream",
          "name": "stdout",
          "text": [
            "Meenakshi Jaiswal freak out with Python\n"
          ]
        }
      ]
    },
    {
      "cell_type": "code",
      "source": [
        "#Addition\n",
        "6372 + 2173"
      ],
      "metadata": {
        "colab": {
          "base_uri": "https://localhost:8080/"
        },
        "id": "jhYsATPPkKf9",
        "outputId": "c67a0571-4130-4907-993b-f872d7f508c5"
      },
      "execution_count": null,
      "outputs": [
        {
          "output_type": "execute_result",
          "data": {
            "text/plain": [
              "8545"
            ]
          },
          "metadata": {},
          "execution_count": 6
        }
      ]
    },
    {
      "cell_type": "code",
      "source": [
        "#Substraction\n",
        "67342 - 7232"
      ],
      "metadata": {
        "colab": {
          "base_uri": "https://localhost:8080/"
        },
        "id": "8TNZCmcDkRBQ",
        "outputId": "a48cabf4-b826-49fe-a244-93289e763be0"
      },
      "execution_count": null,
      "outputs": [
        {
          "output_type": "execute_result",
          "data": {
            "text/plain": [
              "60110"
            ]
          },
          "metadata": {},
          "execution_count": 7
        }
      ]
    },
    {
      "cell_type": "code",
      "source": [
        "#square\n",
        "3^2"
      ],
      "metadata": {
        "colab": {
          "base_uri": "https://localhost:8080/"
        },
        "id": "AegbeKqTkZyw",
        "outputId": "955694cf-85a8-4677-ffdd-21957e9e6e67"
      },
      "execution_count": null,
      "outputs": [
        {
          "output_type": "execute_result",
          "data": {
            "text/plain": [
              "1"
            ]
          },
          "metadata": {},
          "execution_count": 8
        }
      ]
    },
    {
      "cell_type": "code",
      "source": [
        "order_second = 18.5\n",
        "print(order_second)"
      ],
      "metadata": {
        "colab": {
          "base_uri": "https://localhost:8080/"
        },
        "id": "qVUFdfSNk_YV",
        "outputId": "019ab778-8f14-49e4-beb1-f543ebc3e31c"
      },
      "execution_count": null,
      "outputs": [
        {
          "output_type": "stream",
          "name": "stdout",
          "text": [
            "18.5\n"
          ]
        }
      ]
    },
    {
      "cell_type": "code",
      "source": [
        "order_minute = order_second * 60\n",
        "print( order_minute)"
      ],
      "metadata": {
        "colab": {
          "base_uri": "https://localhost:8080/"
        },
        "id": "B6_AD57Kmsd9",
        "outputId": "d68938bf-be57-401e-f7ec-2c5bd22d6de1"
      },
      "execution_count": null,
      "outputs": [
        {
          "output_type": "stream",
          "name": "stdout",
          "text": [
            "1110.0\n"
          ]
        }
      ]
    },
    {
      "cell_type": "code",
      "source": [
        "order_hour = order_minute * 60\n",
        "print( order_hour)"
      ],
      "metadata": {
        "colab": {
          "base_uri": "https://localhost:8080/"
        },
        "id": "sKzVcBtJm54b",
        "outputId": "4787769c-c331-45e7-f1da-f889f894c0a2"
      },
      "execution_count": null,
      "outputs": [
        {
          "output_type": "stream",
          "name": "stdout",
          "text": [
            "66600.0\n"
          ]
        }
      ]
    },
    {
      "cell_type": "code",
      "source": [
        "order_day = order_hour * 24\n",
        "print(order_day)"
      ],
      "metadata": {
        "colab": {
          "base_uri": "https://localhost:8080/"
        },
        "id": "x0HS4xmXnG4H",
        "outputId": "a0c4748a-4568-4ecf-88c5-d0ee7ae29cd1"
      },
      "execution_count": null,
      "outputs": [
        {
          "output_type": "stream",
          "name": "stdout",
          "text": [
            "1598400.0\n"
          ]
        }
      ]
    },
    {
      "cell_type": "code",
      "source": [
        "order_year = order_day * 365\n",
        "print(order_year)"
      ],
      "metadata": {
        "colab": {
          "base_uri": "https://localhost:8080/"
        },
        "id": "5OWMwXDSnXHS",
        "outputId": "01eda274-d5ab-444f-cb1e-5a1174e03c5b"
      },
      "execution_count": null,
      "outputs": [
        {
          "output_type": "stream",
          "name": "stdout",
          "text": [
            "583416000.0\n"
          ]
        }
      ]
    },
    {
      "cell_type": "code",
      "source": [
        "another_way = order_second *60 *60 *24 *365\n",
        "print(another_way)"
      ],
      "metadata": {
        "colab": {
          "base_uri": "https://localhost:8080/"
        },
        "id": "HZ3Qyn-VnlJ7",
        "outputId": "80c2b738-9da8-4175-f2db-eca100480a12"
      },
      "execution_count": null,
      "outputs": [
        {
          "output_type": "stream",
          "name": "stdout",
          "text": [
            "583416000.0\n"
          ]
        }
      ]
    },
    {
      "cell_type": "code",
      "source": [],
      "metadata": {
        "id": "rSNXsuKkoAHB"
      },
      "execution_count": null,
      "outputs": []
    },
    {
      "cell_type": "markdown",
      "source": [
        "Calculate profit if Amazon gets 1 Re profit per order, 2Rs profit per order, 9.9 rs profit per order or rs 1 loss."
      ],
      "metadata": {
        "id": "mZZYldcup0gt"
      }
    },
    {
      "cell_type": "code",
      "source": [
        "profit_1 = order_year * 1\n",
        "profit_2 = order_year * 2\n",
        "profit_3 = order_year * 0.9\n",
        "profit_4 = order_year * 5\n",
        "loss_1 = order_year * -1"
      ],
      "metadata": {
        "id": "NOu5eJC4qImY"
      },
      "execution_count": null,
      "outputs": []
    },
    {
      "cell_type": "code",
      "source": [
        "print(profit_1)\n",
        "print(profit_2)\n",
        "print(profit_3)\n",
        "print(profit_4)\n",
        "print(loss_1)\n"
      ],
      "metadata": {
        "colab": {
          "base_uri": "https://localhost:8080/"
        },
        "id": "XbTgRWM3qmul",
        "outputId": "14016af3-1132-475b-8cc2-d429e3f5ad46"
      },
      "execution_count": null,
      "outputs": [
        {
          "output_type": "stream",
          "name": "stdout",
          "text": [
            "583416000.0\n",
            "1166832000.0\n",
            "525074400.0\n",
            "2917080000.0\n",
            "-583416000.0\n"
          ]
        }
      ]
    },
    {
      "cell_type": "markdown",
      "source": [
        "* strings\n",
        "* tuples\n",
        "* lists\n",
        "* sets\n",
        "* dictionary \n",
        "\n"
      ],
      "metadata": {
        "id": "EC_CNNG00D9C"
      }
    },
    {
      "cell_type": "code",
      "source": [
        "name = input(\"Please enter your name \")"
      ],
      "metadata": {
        "colab": {
          "base_uri": "https://localhost:8080/"
        },
        "id": "ovZqVcUAq2KU",
        "outputId": "51dda5c4-c2c0-4022-caa6-1ca75fa31ea7"
      },
      "execution_count": null,
      "outputs": [
        {
          "name": "stdout",
          "output_type": "stream",
          "text": [
            "Please enter your name Mini\n"
          ]
        }
      ]
    },
    {
      "cell_type": "code",
      "source": [
        "class Vehicle:\n",
        "  def __init__(self,body,color,fuel,max_speed,mileage):\n",
        "    self.max_speed = max_speed\n",
        "    self.mileage = mileage\n",
        "    self.body = body\n",
        "    self.color = color\n",
        "    self.fuel = fuel"
      ],
      "metadata": {
        "id": "r3p84QLzA7rl"
      },
      "execution_count": null,
      "outputs": []
    },
    {
      "cell_type": "code",
      "source": [
        "Car = Vehicle('fibre','blue','petrol',220,10000)"
      ],
      "metadata": {
        "id": "b8QIZY9xwF7n"
      },
      "execution_count": null,
      "outputs": []
    },
    {
      "cell_type": "code",
      "source": [
        "class Building:\n",
        "  def __init__(self,dimension,walls,roof,floor,rooms,speciality,kind):\n",
        "    self.dimension = dimension\n",
        "    self.walls = walls\n",
        "    self.roof = roof\n",
        "    self.floor = floor\n",
        "    self.rooms = rooms\n",
        "    self.speciality = speciality\n",
        "    self.kind = kind"
      ],
      "metadata": {
        "id": "cIjoDHzHwRjH"
      },
      "execution_count": null,
      "outputs": []
    },
    {
      "cell_type": "code",
      "source": [
        "hotel = Building('1 acre',100,100,50,200,\"5 star\",'commercial')\n",
        "hospital = Building('2 acre',50,52,4,25,'heart','government')\n",
        "house = Building('1200 sqft',10,10,2,5,'penthouse','apartment')\n",
        "office = Building('18000sqft',15,10,8,50,'ac','utility')\n",
        "print(hotel.kind,hospital.speciality,office.floor)\n"
      ],
      "metadata": {
        "colab": {
          "base_uri": "https://localhost:8080/"
        },
        "id": "Ksj0IviEx1XV",
        "outputId": "f643836d-b530-4862-f541-ae1cd3b6877d"
      },
      "execution_count": null,
      "outputs": [
        {
          "output_type": "stream",
          "name": "stdout",
          "text": [
            "commercial heart 8\n"
          ]
        }
      ]
    },
    {
      "cell_type": "code",
      "source": [
        " class Parent:\n",
        "   def __init__ (self,f_name,l_name,profession):\n",
        "     self.f_name = f_name\n",
        "     self.l_name = l_name\n",
        "     self.profession = profession\n",
        "\n",
        "   def printname(self):\n",
        "     print(self.f_name,self.l_name,self.profession)  \n",
        " ################################################\n",
        " x = Parent(\"Amitabh\",\"Bachhan\",\"Actor\")\n",
        " x.printname()\n",
        " print(x.l_name), print(x.f_name), print(x.profession)    "
      ],
      "metadata": {
        "colab": {
          "base_uri": "https://localhost:8080/"
        },
        "id": "g_RFFl16zXGv",
        "outputId": "a25d26d7-184e-4d20-aeed-03062d7f8a0b"
      },
      "execution_count": null,
      "outputs": [
        {
          "output_type": "stream",
          "name": "stdout",
          "text": [
            "Amitabh Bachhan Actor\n",
            "Bachhan\n",
            "Amitabh\n",
            "Actor\n"
          ]
        },
        {
          "output_type": "execute_result",
          "data": {
            "text/plain": [
              "(None, None, None)"
            ]
          },
          "metadata": {},
          "execution_count": 19
        }
      ]
    },
    {
      "cell_type": "code",
      "source": [
        "#child class\n",
        "class Son(Parent):\n",
        "  wife = \"Aishwarya Rai\"\n",
        "  daughter = \"Aradhya Bachhan\"\n"
      ],
      "metadata": {
        "id": "RcPul0PDEqzL"
      },
      "execution_count": null,
      "outputs": []
    },
    {
      "cell_type": "code",
      "source": [
        "y = Son(\"Abhishek\" , \"Bachhan\" , \"Actor\")\n",
        "y.printname()\n",
        "print(y.wife) , print(y.daughter)\n",
        "print(y.wife , y.daughter)\n",
        "print(y.wife,'\\n',y.daughter)"
      ],
      "metadata": {
        "colab": {
          "base_uri": "https://localhost:8080/"
        },
        "id": "9bMi1qXhFJRt",
        "outputId": "359c93c4-ab68-4255-da3c-3e90adaf59f7"
      },
      "execution_count": null,
      "outputs": [
        {
          "output_type": "stream",
          "name": "stdout",
          "text": [
            "Abhishek Bachhan Actor\n",
            "Aishwarya Rai\n",
            "Aradhya Bachhan\n",
            "Aishwarya Rai Aradhya Bachhan\n",
            "Aishwarya Rai \n",
            " Aradhya Bachhan\n"
          ]
        }
      ]
    },
    {
      "cell_type": "code",
      "source": [
        "class India():\n",
        "  def continent(self):\n",
        "    print(\"India is in Asia\")\n",
        "  def capital(self):\n",
        "    print(\"Capital of India is New Delhi\")\n",
        "  def language(self):\n",
        "    print(\"Hindi is the most widely spoken language in India.\")\n",
        "\n",
        "class USA():\n",
        "  def continent(self):\n",
        "    print(\"USA is in North America\")\n",
        "  def capital(self):\n",
        "    print(\"Washington DC is capital of USA\")\n",
        "  def language(self):\n",
        "    print(\"English is the most widely spoken language in India.\")\n",
        "###################### \n",
        "obj_ind = India()\n",
        "obj_usa = USA()\n",
        "########################\n",
        "for country in(obj_ind, obj_usa):\n",
        "  country.continent()\n",
        "#####################\n",
        "for country in(obj_ind, obj_usa):\n",
        "  country.capital()\n",
        "#######################\n",
        "for country in(obj_ind, obj_usa):\n",
        "  country.language()  \n",
        "############# \n",
        "obj_ind = India()\n",
        "obj_usa = USA() \n",
        "\n",
        "obj_ind.continent()\n",
        "obj_ind.capital()\n",
        "obj_ind.language()\n",
        "\n",
        "########################\n",
        "\n",
        "obj_usa.continent()\n",
        "obj_usa.capital()\n",
        "obj_usa.language()\n"
      ],
      "metadata": {
        "colab": {
          "base_uri": "https://localhost:8080/"
        },
        "id": "mlitu4jcFbHJ",
        "outputId": "2e730b69-e6ab-4288-aab8-10a6fb0b3b94"
      },
      "execution_count": null,
      "outputs": [
        {
          "output_type": "stream",
          "name": "stdout",
          "text": [
            "India is in Asia\n",
            "USA is in North America\n",
            "Capital of India is New Delhi\n",
            "Washington DC is capital of USA\n",
            "Hindi is the most widely spoken language in India.\n",
            "English is the most widely spoken language in India.\n",
            "India is in Asia\n",
            "Capital of India is New Delhi\n",
            "Hindi is the most widely spoken language in India.\n",
            "USA is in North America\n",
            "Washington DC is capital of USA\n",
            "English is the most widely spoken language in India.\n"
          ]
        }
      ]
    },
    {
      "cell_type": "code",
      "source": [
        "print('''Twinkle, twinkle, little star,\n",
        "How I wonder what you are!\n",
        "Up above the world so high,\n",
        "Like a diamond in the sky.\n",
        "Twinkle, twinkle, little star,\n",
        "How I wonder what you are!''')"
      ],
      "metadata": {
        "id": "oMdQeWj5SSfU",
        "colab": {
          "base_uri": "https://localhost:8080/"
        },
        "outputId": "7eb166bf-d163-44a8-9342-7d8e54434623"
      },
      "execution_count": null,
      "outputs": [
        {
          "output_type": "stream",
          "name": "stdout",
          "text": [
            "Twinkle, twinkle, little star,\n",
            "How I wonder what you are!\n",
            "Up above the world so high,\n",
            "Like a diamond in the sky.\n",
            "Twinkle, twinkle, little star,\n",
            "How I wonder what you are!\n"
          ]
        }
      ]
    },
    {
      "cell_type": "code",
      "source": [
        "5*1"
      ],
      "metadata": {
        "colab": {
          "base_uri": "https://localhost:8080/"
        },
        "id": "9F0CQOVL0qEh",
        "outputId": "103f0848-694d-47b3-dd10-337a98eac2a0"
      },
      "execution_count": null,
      "outputs": [
        {
          "output_type": "execute_result",
          "data": {
            "text/plain": [
              "5"
            ]
          },
          "metadata": {},
          "execution_count": 6
        }
      ]
    },
    {
      "cell_type": "code",
      "source": [
        "5*2\n"
      ],
      "metadata": {
        "colab": {
          "base_uri": "https://localhost:8080/"
        },
        "id": "WZDomJZ50v59",
        "outputId": "5f3ad6a3-d7ad-4354-aa09-61869b044c22"
      },
      "execution_count": null,
      "outputs": [
        {
          "output_type": "execute_result",
          "data": {
            "text/plain": [
              "10"
            ]
          },
          "metadata": {},
          "execution_count": 7
        }
      ]
    },
    {
      "cell_type": "code",
      "source": [
        "5*3"
      ],
      "metadata": {
        "colab": {
          "base_uri": "https://localhost:8080/"
        },
        "id": "_PC67Xae1wwp",
        "outputId": "5fb5ea78-6de6-40bb-c1a6-066e08c0430f"
      },
      "execution_count": null,
      "outputs": [
        {
          "output_type": "execute_result",
          "data": {
            "text/plain": [
              "15"
            ]
          },
          "metadata": {},
          "execution_count": 8
        }
      ]
    },
    {
      "cell_type": "code",
      "source": [
        "5*4"
      ],
      "metadata": {
        "colab": {
          "base_uri": "https://localhost:8080/"
        },
        "id": "1ADqKrVI1y01",
        "outputId": "7a34a92e-37e9-4e23-c06f-8c676beaf814"
      },
      "execution_count": null,
      "outputs": [
        {
          "output_type": "execute_result",
          "data": {
            "text/plain": [
              "20"
            ]
          },
          "metadata": {},
          "execution_count": 9
        }
      ]
    },
    {
      "cell_type": "code",
      "source": [
        "5*5"
      ],
      "metadata": {
        "colab": {
          "base_uri": "https://localhost:8080/"
        },
        "id": "dCyg6rJF15DQ",
        "outputId": "7ded6a6f-cbed-4846-fb41-98ada58c3c87"
      },
      "execution_count": null,
      "outputs": [
        {
          "output_type": "execute_result",
          "data": {
            "text/plain": [
              "25"
            ]
          },
          "metadata": {},
          "execution_count": 10
        }
      ]
    },
    {
      "cell_type": "code",
      "source": [
        "5*6"
      ],
      "metadata": {
        "colab": {
          "base_uri": "https://localhost:8080/"
        },
        "id": "F6SHSlyB17Yq",
        "outputId": "be213a12-07f8-4934-adec-9e8295a8bbb2"
      },
      "execution_count": null,
      "outputs": [
        {
          "output_type": "execute_result",
          "data": {
            "text/plain": [
              "30"
            ]
          },
          "metadata": {},
          "execution_count": 11
        }
      ]
    },
    {
      "cell_type": "code",
      "source": [
        "5*7"
      ],
      "metadata": {
        "colab": {
          "base_uri": "https://localhost:8080/"
        },
        "id": "ERg9jFJS1-Yf",
        "outputId": "fbb12239-613c-4bdb-fc44-e8fe52311b2d"
      },
      "execution_count": null,
      "outputs": [
        {
          "output_type": "execute_result",
          "data": {
            "text/plain": [
              "35"
            ]
          },
          "metadata": {},
          "execution_count": 12
        }
      ]
    },
    {
      "cell_type": "code",
      "source": [
        "5*8"
      ],
      "metadata": {
        "colab": {
          "base_uri": "https://localhost:8080/"
        },
        "id": "aekk_3Z-2AcA",
        "outputId": "50a3b633-d48e-4d70-ffcf-91c863b38b80"
      },
      "execution_count": null,
      "outputs": [
        {
          "output_type": "execute_result",
          "data": {
            "text/plain": [
              "40"
            ]
          },
          "metadata": {},
          "execution_count": 13
        }
      ]
    },
    {
      "cell_type": "code",
      "source": [
        "5*9"
      ],
      "metadata": {
        "colab": {
          "base_uri": "https://localhost:8080/"
        },
        "id": "rdQ9QzdT2ChI",
        "outputId": "cf4b0aca-5b15-4f89-b09e-8b9626fa5fc1"
      },
      "execution_count": null,
      "outputs": [
        {
          "output_type": "execute_result",
          "data": {
            "text/plain": [
              "45"
            ]
          },
          "metadata": {},
          "execution_count": 14
        }
      ]
    },
    {
      "cell_type": "code",
      "source": [
        "5*10"
      ],
      "metadata": {
        "colab": {
          "base_uri": "https://localhost:8080/"
        },
        "id": "2ivbYn_V2Ed9",
        "outputId": "2410ac21-1b21-4866-fc0e-3148d8db6966"
      },
      "execution_count": null,
      "outputs": [
        {
          "output_type": "execute_result",
          "data": {
            "text/plain": [
              "50"
            ]
          },
          "metadata": {},
          "execution_count": 15
        }
      ]
    },
    {
      "cell_type": "code",
      "source": [
        "from playsound import playsound\n",
        "playsound('/path/to/a/sound/file/you/want/to/play.mp3')"
      ],
      "metadata": {
        "colab": {
          "base_uri": "https://localhost:8080/",
          "height": 322
        },
        "id": "n5GA4K-R2F7-",
        "outputId": "209f08fa-ccf7-4279-8549-fd3c7a5b5b77"
      },
      "execution_count": null,
      "outputs": [
        {
          "output_type": "error",
          "ename": "ModuleNotFoundError",
          "evalue": "ignored",
          "traceback": [
            "\u001b[0;31m---------------------------------------------------------------------------\u001b[0m",
            "\u001b[0;31mModuleNotFoundError\u001b[0m                       Traceback (most recent call last)",
            "\u001b[0;32m<ipython-input-16-f51ba3ddd250>\u001b[0m in \u001b[0;36m<module>\u001b[0;34m\u001b[0m\n\u001b[0;32m----> 1\u001b[0;31m \u001b[0;32mfrom\u001b[0m \u001b[0mplaysound\u001b[0m \u001b[0;32mimport\u001b[0m \u001b[0mplaysound\u001b[0m\u001b[0;34m\u001b[0m\u001b[0;34m\u001b[0m\u001b[0m\n\u001b[0m\u001b[1;32m      2\u001b[0m \u001b[0mplaysound\u001b[0m\u001b[0;34m(\u001b[0m\u001b[0;34m'/path/to/a/sound/file/you/want/to/play.mp3'\u001b[0m\u001b[0;34m)\u001b[0m\u001b[0;34m\u001b[0m\u001b[0;34m\u001b[0m\u001b[0m\n",
            "\u001b[0;31mModuleNotFoundError\u001b[0m: No module named 'playsound'",
            "",
            "\u001b[0;31m---------------------------------------------------------------------------\u001b[0;32m\nNOTE: If your import is failing due to a missing package, you can\nmanually install dependencies using either !pip or !apt.\n\nTo view examples of installing some common dependencies, click the\n\"Open Examples\" button below.\n\u001b[0;31m---------------------------------------------------------------------------\u001b[0m\n"
          ],
          "errorDetails": {
            "actions": [
              {
                "action": "open_url",
                "actionText": "Open Examples",
                "url": "/notebooks/snippets/importing_libraries.ipynb"
              }
            ]
          }
        }
      ]
    },
    {
      "cell_type": "code",
      "source": [
        "class Parent():\n",
        "  def __init__(self,name,profession):\n",
        "    self.name = name\n",
        "    self.profession = profession\n",
        "    print(self.name,self.profession)  #This is a blue print called class"
      ],
      "metadata": {
        "id": "b4QhD53N31I6"
      },
      "execution_count": 1,
      "outputs": []
    },
    {
      "cell_type": "code",
      "source": [
        "person1 = Parent('Amitabh Bachchan' , 'actor')"
      ],
      "metadata": {
        "colab": {
          "base_uri": "https://localhost:8080/"
        },
        "id": "OTubfbIPgWoR",
        "outputId": "34ed06a6-d0e0-47b7-fcd8-745907cd6b93"
      },
      "execution_count": 2,
      "outputs": [
        {
          "output_type": "stream",
          "name": "stdout",
          "text": [
            "Amitabh Bachchan actor\n"
          ]
        }
      ]
    },
    {
      "cell_type": "code",
      "source": [
        "person2 = Parent('Sunil Gavaskar' , 'cricketer')"
      ],
      "metadata": {
        "colab": {
          "base_uri": "https://localhost:8080/"
        },
        "id": "d_p9Zpdhge1J",
        "outputId": "62794b6a-398a-432b-bc65-b363b61cb079"
      },
      "execution_count": 3,
      "outputs": [
        {
          "output_type": "stream",
          "name": "stdout",
          "text": [
            "Sunil Gavaskar cricketer\n"
          ]
        }
      ]
    },
    {
      "cell_type": "code",
      "source": [
        "person1.wife = 'Jaya Bhaduri'\n",
        "person2.wife = ' Marsheneil Gavaskar'"
      ],
      "metadata": {
        "id": "T3245fclgoFJ"
      },
      "execution_count": 4,
      "outputs": []
    },
    {
      "cell_type": "code",
      "source": [
        "person1.profession,person1.name,person1.wife"
      ],
      "metadata": {
        "colab": {
          "base_uri": "https://localhost:8080/"
        },
        "id": "oqFRJHEAgxly",
        "outputId": "1d9c469f-7072-44f6-9729-52625233940f"
      },
      "execution_count": 5,
      "outputs": [
        {
          "output_type": "execute_result",
          "data": {
            "text/plain": [
              "('actor', 'Amitabh Bachchan', 'Jaya Bhaduri')"
            ]
          },
          "metadata": {},
          "execution_count": 5
        }
      ]
    },
    {
      "cell_type": "code",
      "source": [
        "person2.profession,person2.name,person2.wife"
      ],
      "metadata": {
        "colab": {
          "base_uri": "https://localhost:8080/"
        },
        "id": "WpSnRcJvg6Tz",
        "outputId": "a1a4f6a2-3062-4747-decb-5676f06c4c68"
      },
      "execution_count": 6,
      "outputs": [
        {
          "output_type": "execute_result",
          "data": {
            "text/plain": [
              "('cricketer', 'Sunil Gavaskar', ' Marsheneil Gavaskar')"
            ]
          },
          "metadata": {},
          "execution_count": 6
        }
      ]
    },
    {
      "cell_type": "code",
      "source": [
        "person1.children = 'Abhishek Bachchan' , 'Shweta Bachchan'\n",
        "person2.children = 'Rohan Gavaskar'"
      ],
      "metadata": {
        "id": "Ptxl2P4cg-s-"
      },
      "execution_count": 11,
      "outputs": []
    },
    {
      "cell_type": "markdown",
      "source": [
        "when you make changes in the class in can be inherited in the child class"
      ],
      "metadata": {
        "id": "QlWxAtpsiHLI"
      }
    },
    {
      "cell_type": "code",
      "source": [
        "person1.profession,person1.name,person1.wife,person1.children"
      ],
      "metadata": {
        "colab": {
          "base_uri": "https://localhost:8080/"
        },
        "id": "EhQBSZlnhYib",
        "outputId": "131ff35a-64aa-425c-e312-e53191aaf752"
      },
      "execution_count": 12,
      "outputs": [
        {
          "output_type": "execute_result",
          "data": {
            "text/plain": [
              "('actor',\n",
              " 'Amitabh Bachchan',\n",
              " 'Jaya Bhaduri',\n",
              " ('Abhishek Bachchan', 'Shweta Bachchan'))"
            ]
          },
          "metadata": {},
          "execution_count": 12
        }
      ]
    },
    {
      "cell_type": "code",
      "source": [
        "Parent.house = 'Mumbai'"
      ],
      "metadata": {
        "id": "jPkbmx8ohcWy"
      },
      "execution_count": 14,
      "outputs": []
    },
    {
      "cell_type": "code",
      "source": [
        "person1.house = [\"Mumbai\" , \"London\"]"
      ],
      "metadata": {
        "id": "DT6fIFuSh8lZ"
      },
      "execution_count": 18,
      "outputs": []
    },
    {
      "cell_type": "code",
      "source": [
        "person1.house , person2.house "
      ],
      "metadata": {
        "colab": {
          "base_uri": "https://localhost:8080/"
        },
        "id": "CiJJR77pi0in",
        "outputId": "c54e5dea-4fbe-4eab-87c2-b28ea8868d89"
      },
      "execution_count": 17,
      "outputs": [
        {
          "output_type": "execute_result",
          "data": {
            "text/plain": [
              "(('Mumbai', 'London'), 'Mumbai')"
            ]
          },
          "metadata": {},
          "execution_count": 17
        }
      ]
    },
    {
      "cell_type": "markdown",
      "source": [
        "Atomic data structures are strings, numbers and booleans"
      ],
      "metadata": {
        "id": "TekYyGXFjn2c"
      }
    },
    {
      "cell_type": "code",
      "source": [
        "age = int(input ('Please enter your age'))"
      ],
      "metadata": {
        "colab": {
          "base_uri": "https://localhost:8080/"
        },
        "id": "ZnzeWa0wi85k",
        "outputId": "88415bfa-4e7b-437a-ece5-31e050858382"
      },
      "execution_count": 19,
      "outputs": [
        {
          "name": "stdout",
          "output_type": "stream",
          "text": [
            "Please enter your age34\n"
          ]
        }
      ]
    },
    {
      "cell_type": "code",
      "source": [
        "type(age)"
      ],
      "metadata": {
        "colab": {
          "base_uri": "https://localhost:8080/"
        },
        "id": "2d0URRkGj-ra",
        "outputId": "f26f6f35-f930-4053-e4fa-6cff8a37ae4d"
      },
      "execution_count": 20,
      "outputs": [
        {
          "output_type": "execute_result",
          "data": {
            "text/plain": [
              "int"
            ]
          },
          "metadata": {},
          "execution_count": 20
        }
      ]
    },
    {
      "cell_type": "code",
      "source": [
        "temperature = float(input(\"What's today's temperature?\"))"
      ],
      "metadata": {
        "colab": {
          "base_uri": "https://localhost:8080/"
        },
        "id": "ezjzL2BokENw",
        "outputId": "d95e8914-2b59-49fa-e643-16898c5e4c73"
      },
      "execution_count": 21,
      "outputs": [
        {
          "name": "stdout",
          "output_type": "stream",
          "text": [
            "What's today's temperature?28.5\n"
          ]
        }
      ]
    },
    {
      "cell_type": "code",
      "source": [
        "type(temperature)"
      ],
      "metadata": {
        "colab": {
          "base_uri": "https://localhost:8080/"
        },
        "id": "Mq4_Z10jkYxA",
        "outputId": "4c306312-53bf-44e8-d0bf-38b0dc7eec12"
      },
      "execution_count": 22,
      "outputs": [
        {
          "output_type": "execute_result",
          "data": {
            "text/plain": [
              "float"
            ]
          },
          "metadata": {},
          "execution_count": 22
        }
      ]
    },
    {
      "cell_type": "markdown",
      "source": [
        "Sequence or Serial data types are lists, tuple, sets, dictionary"
      ],
      "metadata": {
        "id": "piwHEkDPkqnw"
      }
    },
    {
      "cell_type": "code",
      "source": [
        "products = [\"Mobile\" , \"TV\" , \"Apparel\" , \"Books\" , \"Provision\" , \"Music\"]"
      ],
      "metadata": {
        "id": "AWYPZeLykhQX"
      },
      "execution_count": 25,
      "outputs": []
    },
    {
      "cell_type": "code",
      "source": [
        "type(products)"
      ],
      "metadata": {
        "colab": {
          "base_uri": "https://localhost:8080/"
        },
        "id": "nSKWs6-nlOjN",
        "outputId": "0af2f432-12a7-43c6-e9fc-ec9419cbd318"
      },
      "execution_count": 26,
      "outputs": [
        {
          "output_type": "execute_result",
          "data": {
            "text/plain": [
              "list"
            ]
          },
          "metadata": {},
          "execution_count": 26
        }
      ]
    },
    {
      "cell_type": "markdown",
      "source": [
        "List is a basket of data"
      ],
      "metadata": {
        "id": "2_gZp9c_lXmM"
      }
    },
    {
      "cell_type": "code",
      "source": [
        "prices = (25000,65000,5000,500,15000,100)"
      ],
      "metadata": {
        "id": "-TxOp7rnlURN"
      },
      "execution_count": 27,
      "outputs": []
    },
    {
      "cell_type": "code",
      "source": [
        "type(prices)"
      ],
      "metadata": {
        "colab": {
          "base_uri": "https://localhost:8080/"
        },
        "id": "9YlwbqnUljL1",
        "outputId": "72dff377-89f8-401e-e0fc-3e2e3310057e"
      },
      "execution_count": 28,
      "outputs": [
        {
          "output_type": "execute_result",
          "data": {
            "text/plain": [
              "tuple"
            ]
          },
          "metadata": {},
          "execution_count": 28
        }
      ]
    },
    {
      "cell_type": "markdown",
      "source": [
        "data can be item,sets, dictionary,tuple"
      ],
      "metadata": {
        "id": "JrjPbkxDlnBj"
      }
    },
    {
      "cell_type": "code",
      "source": [
        "delivery = {'Door delivery','door delivery','pick-up', 'courier' , 'courier' , 'download'}"
      ],
      "metadata": {
        "id": "X7cju55Ullwr"
      },
      "execution_count": 29,
      "outputs": []
    },
    {
      "cell_type": "code",
      "source": [
        "type(delivery)"
      ],
      "metadata": {
        "colab": {
          "base_uri": "https://localhost:8080/"
        },
        "id": "afZEBk5AmF93",
        "outputId": "20f688ef-73d4-4391-ed2e-b87824b1e1d6"
      },
      "execution_count": 30,
      "outputs": [
        {
          "output_type": "execute_result",
          "data": {
            "text/plain": [
              "set"
            ]
          },
          "metadata": {},
          "execution_count": 30
        }
      ]
    },
    {
      "cell_type": "markdown",
      "source": [
        "in sets we used flower bracket"
      ],
      "metadata": {
        "id": "LxD7FwAkmMta"
      }
    },
    {
      "cell_type": "code",
      "source": [
        "order = {\"name\" : \"Meenakshi\",\n",
        "         \"product\": \"mobile\",\n",
        "         \"price\": 25000,\n",
        "         \"delivery\" : \"door\"}"
      ],
      "metadata": {
        "id": "svQIg-eLmKqZ"
      },
      "execution_count": 31,
      "outputs": []
    },
    {
      "cell_type": "code",
      "source": [
        "type(order)"
      ],
      "metadata": {
        "colab": {
          "base_uri": "https://localhost:8080/"
        },
        "id": "c0ybTnCHmtfd",
        "outputId": "faa7ffcd-489e-41c8-aa94-a5fea454e30b"
      },
      "execution_count": 32,
      "outputs": [
        {
          "output_type": "execute_result",
          "data": {
            "text/plain": [
              "dict"
            ]
          },
          "metadata": {},
          "execution_count": 32
        }
      ]
    },
    {
      "cell_type": "markdown",
      "source": [
        "mutable data can changed but unmutable cant be change"
      ],
      "metadata": {
        "id": "BHssO7yvnlI3"
      }
    },
    {
      "cell_type": "code",
      "source": [
        "dir(int)            #it tells us what int function can do"
      ],
      "metadata": {
        "colab": {
          "base_uri": "https://localhost:8080/"
        },
        "id": "ISbZWqAQmwZp",
        "outputId": "c4c6b693-be23-4461-d62d-b1bb89ddbbe8"
      },
      "execution_count": 35,
      "outputs": [
        {
          "output_type": "execute_result",
          "data": {
            "text/plain": [
              "['__abs__',\n",
              " '__add__',\n",
              " '__and__',\n",
              " '__bool__',\n",
              " '__ceil__',\n",
              " '__class__',\n",
              " '__delattr__',\n",
              " '__dir__',\n",
              " '__divmod__',\n",
              " '__doc__',\n",
              " '__eq__',\n",
              " '__float__',\n",
              " '__floor__',\n",
              " '__floordiv__',\n",
              " '__format__',\n",
              " '__ge__',\n",
              " '__getattribute__',\n",
              " '__getnewargs__',\n",
              " '__gt__',\n",
              " '__hash__',\n",
              " '__index__',\n",
              " '__init__',\n",
              " '__init_subclass__',\n",
              " '__int__',\n",
              " '__invert__',\n",
              " '__le__',\n",
              " '__lshift__',\n",
              " '__lt__',\n",
              " '__mod__',\n",
              " '__mul__',\n",
              " '__ne__',\n",
              " '__neg__',\n",
              " '__new__',\n",
              " '__or__',\n",
              " '__pos__',\n",
              " '__pow__',\n",
              " '__radd__',\n",
              " '__rand__',\n",
              " '__rdivmod__',\n",
              " '__reduce__',\n",
              " '__reduce_ex__',\n",
              " '__repr__',\n",
              " '__rfloordiv__',\n",
              " '__rlshift__',\n",
              " '__rmod__',\n",
              " '__rmul__',\n",
              " '__ror__',\n",
              " '__round__',\n",
              " '__rpow__',\n",
              " '__rrshift__',\n",
              " '__rshift__',\n",
              " '__rsub__',\n",
              " '__rtruediv__',\n",
              " '__rxor__',\n",
              " '__setattr__',\n",
              " '__sizeof__',\n",
              " '__str__',\n",
              " '__sub__',\n",
              " '__subclasshook__',\n",
              " '__truediv__',\n",
              " '__trunc__',\n",
              " '__xor__',\n",
              " 'as_integer_ratio',\n",
              " 'bit_length',\n",
              " 'conjugate',\n",
              " 'denominator',\n",
              " 'from_bytes',\n",
              " 'imag',\n",
              " 'numerator',\n",
              " 'real',\n",
              " 'to_bytes']"
            ]
          },
          "metadata": {},
          "execution_count": 35
        }
      ]
    },
    {
      "cell_type": "code",
      "source": [
        "age.to_bytes"
      ],
      "metadata": {
        "colab": {
          "base_uri": "https://localhost:8080/"
        },
        "id": "x86Z3sRvnxHU",
        "outputId": "edaf12e1-54f5-493a-85ae-7ed4d9712ee9"
      },
      "execution_count": 36,
      "outputs": [
        {
          "output_type": "execute_result",
          "data": {
            "text/plain": [
              "<function int.to_bytes(length, byteorder, *, signed=False)>"
            ]
          },
          "metadata": {},
          "execution_count": 36
        }
      ]
    },
    {
      "cell_type": "code",
      "source": [
        "age.numerator"
      ],
      "metadata": {
        "colab": {
          "base_uri": "https://localhost:8080/"
        },
        "id": "gdhy-p_YoJZD",
        "outputId": "af9ff5b8-7ad7-4095-9321-b9d67036dd8e"
      },
      "execution_count": 37,
      "outputs": [
        {
          "output_type": "execute_result",
          "data": {
            "text/plain": [
              "34"
            ]
          },
          "metadata": {},
          "execution_count": 37
        }
      ]
    },
    {
      "cell_type": "code",
      "source": [
        "age.bit_length"
      ],
      "metadata": {
        "colab": {
          "base_uri": "https://localhost:8080/"
        },
        "id": "boZg0eRJoRdA",
        "outputId": "8205bf47-e8ae-4d7c-c154-234560e31810"
      },
      "execution_count": 38,
      "outputs": [
        {
          "output_type": "execute_result",
          "data": {
            "text/plain": [
              "<function int.bit_length()>"
            ]
          },
          "metadata": {},
          "execution_count": 38
        }
      ]
    },
    {
      "cell_type": "code",
      "source": [
        "isinstance(age, int)     #isinstance(object, classinfo)"
      ],
      "metadata": {
        "colab": {
          "base_uri": "https://localhost:8080/"
        },
        "id": "cRr4umdXoVJq",
        "outputId": "e39e8c4c-edde-4124-c4d5-5107e90489ad"
      },
      "execution_count": 40,
      "outputs": [
        {
          "output_type": "execute_result",
          "data": {
            "text/plain": [
              "True"
            ]
          },
          "metadata": {},
          "execution_count": 40
        }
      ]
    },
    {
      "cell_type": "code",
      "source": [
        "dir(float)"
      ],
      "metadata": {
        "colab": {
          "base_uri": "https://localhost:8080/"
        },
        "id": "TZ0_7e4Bo_zH",
        "outputId": "92483cbd-320d-43f8-b642-3b6783ca2221"
      },
      "execution_count": 41,
      "outputs": [
        {
          "output_type": "execute_result",
          "data": {
            "text/plain": [
              "['__abs__',\n",
              " '__add__',\n",
              " '__bool__',\n",
              " '__class__',\n",
              " '__delattr__',\n",
              " '__dir__',\n",
              " '__divmod__',\n",
              " '__doc__',\n",
              " '__eq__',\n",
              " '__float__',\n",
              " '__floordiv__',\n",
              " '__format__',\n",
              " '__ge__',\n",
              " '__getattribute__',\n",
              " '__getformat__',\n",
              " '__getnewargs__',\n",
              " '__gt__',\n",
              " '__hash__',\n",
              " '__init__',\n",
              " '__init_subclass__',\n",
              " '__int__',\n",
              " '__le__',\n",
              " '__lt__',\n",
              " '__mod__',\n",
              " '__mul__',\n",
              " '__ne__',\n",
              " '__neg__',\n",
              " '__new__',\n",
              " '__pos__',\n",
              " '__pow__',\n",
              " '__radd__',\n",
              " '__rdivmod__',\n",
              " '__reduce__',\n",
              " '__reduce_ex__',\n",
              " '__repr__',\n",
              " '__rfloordiv__',\n",
              " '__rmod__',\n",
              " '__rmul__',\n",
              " '__round__',\n",
              " '__rpow__',\n",
              " '__rsub__',\n",
              " '__rtruediv__',\n",
              " '__set_format__',\n",
              " '__setattr__',\n",
              " '__sizeof__',\n",
              " '__str__',\n",
              " '__sub__',\n",
              " '__subclasshook__',\n",
              " '__truediv__',\n",
              " '__trunc__',\n",
              " 'as_integer_ratio',\n",
              " 'conjugate',\n",
              " 'fromhex',\n",
              " 'hex',\n",
              " 'imag',\n",
              " 'is_integer',\n",
              " 'real']"
            ]
          },
          "metadata": {},
          "execution_count": 41
        }
      ]
    },
    {
      "cell_type": "code",
      "source": [
        "temperature.is_integer()"
      ],
      "metadata": {
        "colab": {
          "base_uri": "https://localhost:8080/"
        },
        "id": "ipmdkg_npXD0",
        "outputId": "66cfc650-fb18-43b0-eece-bfc25e6541db"
      },
      "execution_count": 42,
      "outputs": [
        {
          "output_type": "execute_result",
          "data": {
            "text/plain": [
              "False"
            ]
          },
          "metadata": {},
          "execution_count": 42
        }
      ]
    },
    {
      "cell_type": "code",
      "source": [
        "help(int)"
      ],
      "metadata": {
        "colab": {
          "base_uri": "https://localhost:8080/"
        },
        "id": "TzhmsdtVpd2G",
        "outputId": "b2e7c9ec-e69f-44ab-80c2-e80fe4fe2c51"
      },
      "execution_count": 44,
      "outputs": [
        {
          "output_type": "stream",
          "name": "stdout",
          "text": [
            "Help on class int in module builtins:\n",
            "\n",
            "class int(object)\n",
            " |  int([x]) -> integer\n",
            " |  int(x, base=10) -> integer\n",
            " |  \n",
            " |  Convert a number or string to an integer, or return 0 if no arguments\n",
            " |  are given.  If x is a number, return x.__int__().  For floating point\n",
            " |  numbers, this truncates towards zero.\n",
            " |  \n",
            " |  If x is not a number or if base is given, then x must be a string,\n",
            " |  bytes, or bytearray instance representing an integer literal in the\n",
            " |  given base.  The literal can be preceded by '+' or '-' and be surrounded\n",
            " |  by whitespace.  The base defaults to 10.  Valid bases are 0 and 2-36.\n",
            " |  Base 0 means to interpret the base from the string as an integer literal.\n",
            " |  >>> int('0b100', base=0)\n",
            " |  4\n",
            " |  \n",
            " |  Built-in subclasses:\n",
            " |      bool\n",
            " |  \n",
            " |  Methods defined here:\n",
            " |  \n",
            " |  __abs__(self, /)\n",
            " |      abs(self)\n",
            " |  \n",
            " |  __add__(self, value, /)\n",
            " |      Return self+value.\n",
            " |  \n",
            " |  __and__(self, value, /)\n",
            " |      Return self&value.\n",
            " |  \n",
            " |  __bool__(self, /)\n",
            " |      self != 0\n",
            " |  \n",
            " |  __ceil__(...)\n",
            " |      Ceiling of an Integral returns itself.\n",
            " |  \n",
            " |  __divmod__(self, value, /)\n",
            " |      Return divmod(self, value).\n",
            " |  \n",
            " |  __eq__(self, value, /)\n",
            " |      Return self==value.\n",
            " |  \n",
            " |  __float__(self, /)\n",
            " |      float(self)\n",
            " |  \n",
            " |  __floor__(...)\n",
            " |      Flooring an Integral returns itself.\n",
            " |  \n",
            " |  __floordiv__(self, value, /)\n",
            " |      Return self//value.\n",
            " |  \n",
            " |  __format__(self, format_spec, /)\n",
            " |      Default object formatter.\n",
            " |  \n",
            " |  __ge__(self, value, /)\n",
            " |      Return self>=value.\n",
            " |  \n",
            " |  __getattribute__(self, name, /)\n",
            " |      Return getattr(self, name).\n",
            " |  \n",
            " |  __getnewargs__(self, /)\n",
            " |  \n",
            " |  __gt__(self, value, /)\n",
            " |      Return self>value.\n",
            " |  \n",
            " |  __hash__(self, /)\n",
            " |      Return hash(self).\n",
            " |  \n",
            " |  __index__(self, /)\n",
            " |      Return self converted to an integer, if self is suitable for use as an index into a list.\n",
            " |  \n",
            " |  __int__(self, /)\n",
            " |      int(self)\n",
            " |  \n",
            " |  __invert__(self, /)\n",
            " |      ~self\n",
            " |  \n",
            " |  __le__(self, value, /)\n",
            " |      Return self<=value.\n",
            " |  \n",
            " |  __lshift__(self, value, /)\n",
            " |      Return self<<value.\n",
            " |  \n",
            " |  __lt__(self, value, /)\n",
            " |      Return self<value.\n",
            " |  \n",
            " |  __mod__(self, value, /)\n",
            " |      Return self%value.\n",
            " |  \n",
            " |  __mul__(self, value, /)\n",
            " |      Return self*value.\n",
            " |  \n",
            " |  __ne__(self, value, /)\n",
            " |      Return self!=value.\n",
            " |  \n",
            " |  __neg__(self, /)\n",
            " |      -self\n",
            " |  \n",
            " |  __or__(self, value, /)\n",
            " |      Return self|value.\n",
            " |  \n",
            " |  __pos__(self, /)\n",
            " |      +self\n",
            " |  \n",
            " |  __pow__(self, value, mod=None, /)\n",
            " |      Return pow(self, value, mod).\n",
            " |  \n",
            " |  __radd__(self, value, /)\n",
            " |      Return value+self.\n",
            " |  \n",
            " |  __rand__(self, value, /)\n",
            " |      Return value&self.\n",
            " |  \n",
            " |  __rdivmod__(self, value, /)\n",
            " |      Return divmod(value, self).\n",
            " |  \n",
            " |  __repr__(self, /)\n",
            " |      Return repr(self).\n",
            " |  \n",
            " |  __rfloordiv__(self, value, /)\n",
            " |      Return value//self.\n",
            " |  \n",
            " |  __rlshift__(self, value, /)\n",
            " |      Return value<<self.\n",
            " |  \n",
            " |  __rmod__(self, value, /)\n",
            " |      Return value%self.\n",
            " |  \n",
            " |  __rmul__(self, value, /)\n",
            " |      Return value*self.\n",
            " |  \n",
            " |  __ror__(self, value, /)\n",
            " |      Return value|self.\n",
            " |  \n",
            " |  __round__(...)\n",
            " |      Rounding an Integral returns itself.\n",
            " |      Rounding with an ndigits argument also returns an integer.\n",
            " |  \n",
            " |  __rpow__(self, value, mod=None, /)\n",
            " |      Return pow(value, self, mod).\n",
            " |  \n",
            " |  __rrshift__(self, value, /)\n",
            " |      Return value>>self.\n",
            " |  \n",
            " |  __rshift__(self, value, /)\n",
            " |      Return self>>value.\n",
            " |  \n",
            " |  __rsub__(self, value, /)\n",
            " |      Return value-self.\n",
            " |  \n",
            " |  __rtruediv__(self, value, /)\n",
            " |      Return value/self.\n",
            " |  \n",
            " |  __rxor__(self, value, /)\n",
            " |      Return value^self.\n",
            " |  \n",
            " |  __sizeof__(self, /)\n",
            " |      Returns size in memory, in bytes.\n",
            " |  \n",
            " |  __sub__(self, value, /)\n",
            " |      Return self-value.\n",
            " |  \n",
            " |  __truediv__(self, value, /)\n",
            " |      Return self/value.\n",
            " |  \n",
            " |  __trunc__(...)\n",
            " |      Truncating an Integral returns itself.\n",
            " |  \n",
            " |  __xor__(self, value, /)\n",
            " |      Return self^value.\n",
            " |  \n",
            " |  as_integer_ratio(self, /)\n",
            " |      Return integer ratio.\n",
            " |      \n",
            " |      Return a pair of integers, whose ratio is exactly equal to the original int\n",
            " |      and with a positive denominator.\n",
            " |      \n",
            " |      >>> (10).as_integer_ratio()\n",
            " |      (10, 1)\n",
            " |      >>> (-10).as_integer_ratio()\n",
            " |      (-10, 1)\n",
            " |      >>> (0).as_integer_ratio()\n",
            " |      (0, 1)\n",
            " |  \n",
            " |  bit_length(self, /)\n",
            " |      Number of bits necessary to represent self in binary.\n",
            " |      \n",
            " |      >>> bin(37)\n",
            " |      '0b100101'\n",
            " |      >>> (37).bit_length()\n",
            " |      6\n",
            " |  \n",
            " |  conjugate(...)\n",
            " |      Returns self, the complex conjugate of any int.\n",
            " |  \n",
            " |  to_bytes(self, /, length, byteorder, *, signed=False)\n",
            " |      Return an array of bytes representing an integer.\n",
            " |      \n",
            " |      length\n",
            " |        Length of bytes object to use.  An OverflowError is raised if the\n",
            " |        integer is not representable with the given number of bytes.\n",
            " |      byteorder\n",
            " |        The byte order used to represent the integer.  If byteorder is 'big',\n",
            " |        the most significant byte is at the beginning of the byte array.  If\n",
            " |        byteorder is 'little', the most significant byte is at the end of the\n",
            " |        byte array.  To request the native byte order of the host system, use\n",
            " |        `sys.byteorder' as the byte order value.\n",
            " |      signed\n",
            " |        Determines whether two's complement is used to represent the integer.\n",
            " |        If signed is False and a negative integer is given, an OverflowError\n",
            " |        is raised.\n",
            " |  \n",
            " |  ----------------------------------------------------------------------\n",
            " |  Class methods defined here:\n",
            " |  \n",
            " |  from_bytes(bytes, byteorder, *, signed=False) from builtins.type\n",
            " |      Return the integer represented by the given array of bytes.\n",
            " |      \n",
            " |      bytes\n",
            " |        Holds the array of bytes to convert.  The argument must either\n",
            " |        support the buffer protocol or be an iterable object producing bytes.\n",
            " |        Bytes and bytearray are examples of built-in objects that support the\n",
            " |        buffer protocol.\n",
            " |      byteorder\n",
            " |        The byte order used to represent the integer.  If byteorder is 'big',\n",
            " |        the most significant byte is at the beginning of the byte array.  If\n",
            " |        byteorder is 'little', the most significant byte is at the end of the\n",
            " |        byte array.  To request the native byte order of the host system, use\n",
            " |        `sys.byteorder' as the byte order value.\n",
            " |      signed\n",
            " |        Indicates whether two's complement is used to represent the integer.\n",
            " |  \n",
            " |  ----------------------------------------------------------------------\n",
            " |  Static methods defined here:\n",
            " |  \n",
            " |  __new__(*args, **kwargs) from builtins.type\n",
            " |      Create and return a new object.  See help(type) for accurate signature.\n",
            " |  \n",
            " |  ----------------------------------------------------------------------\n",
            " |  Data descriptors defined here:\n",
            " |  \n",
            " |  denominator\n",
            " |      the denominator of a rational number in lowest terms\n",
            " |  \n",
            " |  imag\n",
            " |      the imaginary part of a complex number\n",
            " |  \n",
            " |  numerator\n",
            " |      the numerator of a rational number in lowest terms\n",
            " |  \n",
            " |  real\n",
            " |      the real part of a complex number\n",
            "\n"
          ]
        }
      ]
    },
    {
      "cell_type": "code",
      "source": [
        "help(tuple)"
      ],
      "metadata": {
        "colab": {
          "base_uri": "https://localhost:8080/"
        },
        "id": "ajt3gzxjpuQt",
        "outputId": "0ce3c049-06b9-4a86-f20e-c261647591ad"
      },
      "execution_count": 45,
      "outputs": [
        {
          "output_type": "stream",
          "name": "stdout",
          "text": [
            "Help on class tuple in module builtins:\n",
            "\n",
            "class tuple(object)\n",
            " |  tuple(iterable=(), /)\n",
            " |  \n",
            " |  Built-in immutable sequence.\n",
            " |  \n",
            " |  If no argument is given, the constructor returns an empty tuple.\n",
            " |  If iterable is specified the tuple is initialized from iterable's items.\n",
            " |  \n",
            " |  If the argument is a tuple, the return value is the same object.\n",
            " |  \n",
            " |  Built-in subclasses:\n",
            " |      asyncgen_hooks\n",
            " |      MonthDayNano\n",
            " |      UnraisableHookArgs\n",
            " |  \n",
            " |  Methods defined here:\n",
            " |  \n",
            " |  __add__(self, value, /)\n",
            " |      Return self+value.\n",
            " |  \n",
            " |  __contains__(self, key, /)\n",
            " |      Return key in self.\n",
            " |  \n",
            " |  __eq__(self, value, /)\n",
            " |      Return self==value.\n",
            " |  \n",
            " |  __ge__(self, value, /)\n",
            " |      Return self>=value.\n",
            " |  \n",
            " |  __getattribute__(self, name, /)\n",
            " |      Return getattr(self, name).\n",
            " |  \n",
            " |  __getitem__(self, key, /)\n",
            " |      Return self[key].\n",
            " |  \n",
            " |  __getnewargs__(self, /)\n",
            " |  \n",
            " |  __gt__(self, value, /)\n",
            " |      Return self>value.\n",
            " |  \n",
            " |  __hash__(self, /)\n",
            " |      Return hash(self).\n",
            " |  \n",
            " |  __iter__(self, /)\n",
            " |      Implement iter(self).\n",
            " |  \n",
            " |  __le__(self, value, /)\n",
            " |      Return self<=value.\n",
            " |  \n",
            " |  __len__(self, /)\n",
            " |      Return len(self).\n",
            " |  \n",
            " |  __lt__(self, value, /)\n",
            " |      Return self<value.\n",
            " |  \n",
            " |  __mul__(self, value, /)\n",
            " |      Return self*value.\n",
            " |  \n",
            " |  __ne__(self, value, /)\n",
            " |      Return self!=value.\n",
            " |  \n",
            " |  __repr__(self, /)\n",
            " |      Return repr(self).\n",
            " |  \n",
            " |  __rmul__(self, value, /)\n",
            " |      Return value*self.\n",
            " |  \n",
            " |  count(self, value, /)\n",
            " |      Return number of occurrences of value.\n",
            " |  \n",
            " |  index(self, value, start=0, stop=9223372036854775807, /)\n",
            " |      Return first index of value.\n",
            " |      \n",
            " |      Raises ValueError if the value is not present.\n",
            " |  \n",
            " |  ----------------------------------------------------------------------\n",
            " |  Static methods defined here:\n",
            " |  \n",
            " |  __new__(*args, **kwargs) from builtins.type\n",
            " |      Create and return a new object.  See help(type) for accurate signature.\n",
            "\n"
          ]
        }
      ]
    },
    {
      "cell_type": "code",
      "source": [
        "single_quote = 'This is a single quote message'"
      ],
      "metadata": {
        "id": "OI8KeG_drBKn"
      },
      "execution_count": 46,
      "outputs": []
    },
    {
      "cell_type": "code",
      "source": [
        "type(single_quote)"
      ],
      "metadata": {
        "colab": {
          "base_uri": "https://localhost:8080/"
        },
        "id": "Uv9sNWFwsQXM",
        "outputId": "a4dc36ef-1ba7-4c17-a47f-f14ce8a16039"
      },
      "execution_count": 47,
      "outputs": [
        {
          "output_type": "execute_result",
          "data": {
            "text/plain": [
              "str"
            ]
          },
          "metadata": {},
          "execution_count": 47
        }
      ]
    },
    {
      "cell_type": "code",
      "source": [
        "double_quote = \"This is not single quote, but double quote\""
      ],
      "metadata": {
        "id": "dm0xphJEsTZB"
      },
      "execution_count": 48,
      "outputs": []
    },
    {
      "cell_type": "code",
      "source": [
        "type(double_quote)"
      ],
      "metadata": {
        "colab": {
          "base_uri": "https://localhost:8080/"
        },
        "id": "6OifLIB9seu2",
        "outputId": "547b103c-afda-4a68-8853-d4843144dde6"
      },
      "execution_count": 49,
      "outputs": [
        {
          "output_type": "execute_result",
          "data": {
            "text/plain": [
              "str"
            ]
          },
          "metadata": {},
          "execution_count": 49
        }
      ]
    },
    {
      "cell_type": "code",
      "source": [
        "tripple_quote = '''this toy would be a lot more realistic\n",
        "                   with about 350 people standing in\n",
        "                   line for an average of an hour.\n",
        "                   It still makes a nice set \n",
        "                   with the interrogation room.'''"
      ],
      "metadata": {
        "id": "9N9u8pNGsij2"
      },
      "execution_count": 56,
      "outputs": []
    },
    {
      "cell_type": "code",
      "source": [
        "type(tripple_quote)"
      ],
      "metadata": {
        "colab": {
          "base_uri": "https://localhost:8080/"
        },
        "id": "NhjHVbC7s6_1",
        "outputId": "f3a2109d-fccf-4cf7-d0a2-6a9aca531b5b"
      },
      "execution_count": 52,
      "outputs": [
        {
          "output_type": "execute_result",
          "data": {
            "text/plain": [
              "str"
            ]
          },
          "metadata": {},
          "execution_count": 52
        }
      ]
    },
    {
      "cell_type": "code",
      "source": [
        "dir(str)"
      ],
      "metadata": {
        "colab": {
          "base_uri": "https://localhost:8080/"
        },
        "id": "nYo7RHmstD5c",
        "outputId": "ece776f6-9fc4-4599-966e-8a118e2eec5e"
      },
      "execution_count": 53,
      "outputs": [
        {
          "output_type": "execute_result",
          "data": {
            "text/plain": [
              "['__add__',\n",
              " '__class__',\n",
              " '__contains__',\n",
              " '__delattr__',\n",
              " '__dir__',\n",
              " '__doc__',\n",
              " '__eq__',\n",
              " '__format__',\n",
              " '__ge__',\n",
              " '__getattribute__',\n",
              " '__getitem__',\n",
              " '__getnewargs__',\n",
              " '__gt__',\n",
              " '__hash__',\n",
              " '__init__',\n",
              " '__init_subclass__',\n",
              " '__iter__',\n",
              " '__le__',\n",
              " '__len__',\n",
              " '__lt__',\n",
              " '__mod__',\n",
              " '__mul__',\n",
              " '__ne__',\n",
              " '__new__',\n",
              " '__reduce__',\n",
              " '__reduce_ex__',\n",
              " '__repr__',\n",
              " '__rmod__',\n",
              " '__rmul__',\n",
              " '__setattr__',\n",
              " '__sizeof__',\n",
              " '__str__',\n",
              " '__subclasshook__',\n",
              " 'capitalize',\n",
              " 'casefold',\n",
              " 'center',\n",
              " 'count',\n",
              " 'encode',\n",
              " 'endswith',\n",
              " 'expandtabs',\n",
              " 'find',\n",
              " 'format',\n",
              " 'format_map',\n",
              " 'index',\n",
              " 'isalnum',\n",
              " 'isalpha',\n",
              " 'isascii',\n",
              " 'isdecimal',\n",
              " 'isdigit',\n",
              " 'isidentifier',\n",
              " 'islower',\n",
              " 'isnumeric',\n",
              " 'isprintable',\n",
              " 'isspace',\n",
              " 'istitle',\n",
              " 'isupper',\n",
              " 'join',\n",
              " 'ljust',\n",
              " 'lower',\n",
              " 'lstrip',\n",
              " 'maketrans',\n",
              " 'partition',\n",
              " 'replace',\n",
              " 'rfind',\n",
              " 'rindex',\n",
              " 'rjust',\n",
              " 'rpartition',\n",
              " 'rsplit',\n",
              " 'rstrip',\n",
              " 'split',\n",
              " 'splitlines',\n",
              " 'startswith',\n",
              " 'strip',\n",
              " 'swapcase',\n",
              " 'title',\n",
              " 'translate',\n",
              " 'upper',\n",
              " 'zfill']"
            ]
          },
          "metadata": {},
          "execution_count": 53
        }
      ]
    },
    {
      "cell_type": "code",
      "source": [
        "tripple_quote.capitalize()"
      ],
      "metadata": {
        "colab": {
          "base_uri": "https://localhost:8080/",
          "height": 70
        },
        "id": "P_h0sg09tdZL",
        "outputId": "d469d09b-10bd-4f4b-873c-f1f0b3c5826e"
      },
      "execution_count": 57,
      "outputs": [
        {
          "output_type": "execute_result",
          "data": {
            "text/plain": [
              "'This toy would be a lot more realistic\\n                   with about 350 people standing in\\n                   line for an average of an hour.\\n                   it still makes a nice set \\n                   with the interrogation room.'"
            ],
            "application/vnd.google.colaboratory.intrinsic+json": {
              "type": "string"
            }
          },
          "metadata": {},
          "execution_count": 57
        }
      ]
    },
    {
      "cell_type": "code",
      "source": [],
      "metadata": {
        "id": "tAVAhxDHt7HA"
      },
      "execution_count": null,
      "outputs": []
    },
    {
      "cell_type": "markdown",
      "source": [
        "\\n is called escape sequence, it is used to put statement in different lines."
      ],
      "metadata": {
        "id": "KC6cuDpQucI9"
      }
    },
    {
      "cell_type": "code",
      "source": [
        "tripple_quote.lower()"
      ],
      "metadata": {
        "colab": {
          "base_uri": "https://localhost:8080/",
          "height": 70
        },
        "id": "bwQSGh3YumL3",
        "outputId": "c12f72ec-9ec9-458f-9c3b-850e8aa124f0"
      },
      "execution_count": 59,
      "outputs": [
        {
          "output_type": "execute_result",
          "data": {
            "text/plain": [
              "'this toy would be a lot more realistic\\n                   with about 350 people standing in\\n                   line for an average of an hour.\\n                   it still makes a nice set \\n                   with the interrogation room.'"
            ],
            "application/vnd.google.colaboratory.intrinsic+json": {
              "type": "string"
            }
          },
          "metadata": {},
          "execution_count": 59
        }
      ]
    },
    {
      "cell_type": "code",
      "source": [
        "tripple_quote.upper()"
      ],
      "metadata": {
        "colab": {
          "base_uri": "https://localhost:8080/",
          "height": 70
        },
        "id": "rsNIjKSmuzJu",
        "outputId": "c5c0e546-8c19-458a-fbdc-46690e829974"
      },
      "execution_count": 60,
      "outputs": [
        {
          "output_type": "execute_result",
          "data": {
            "text/plain": [
              "'THIS TOY WOULD BE A LOT MORE REALISTIC\\n                   WITH ABOUT 350 PEOPLE STANDING IN\\n                   LINE FOR AN AVERAGE OF AN HOUR.\\n                   IT STILL MAKES A NICE SET \\n                   WITH THE INTERROGATION ROOM.'"
            ],
            "application/vnd.google.colaboratory.intrinsic+json": {
              "type": "string"
            }
          },
          "metadata": {},
          "execution_count": 60
        }
      ]
    },
    {
      "cell_type": "code",
      "source": [
        "single_quote + double_quote             # this is called concatenation"
      ],
      "metadata": {
        "colab": {
          "base_uri": "https://localhost:8080/",
          "height": 35
        },
        "id": "2ZnLPgCdvO6U",
        "outputId": "adea745a-b951-4be7-8ad2-2967adb45644"
      },
      "execution_count": 64,
      "outputs": [
        {
          "output_type": "execute_result",
          "data": {
            "text/plain": [
              "'This is a single quote messageThis is not single quote, but double quote'"
            ],
            "application/vnd.google.colaboratory.intrinsic+json": {
              "type": "string"
            }
          },
          "metadata": {},
          "execution_count": 64
        }
      ]
    },
    {
      "cell_type": "code",
      "source": [
        "first_name = 'Amitabh'\n",
        "last_name = 'Bachchan'\n",
        "full_name = first_name + ' ' + last_name\n",
        "full_name"
      ],
      "metadata": {
        "colab": {
          "base_uri": "https://localhost:8080/",
          "height": 35
        },
        "id": "bHEsQYDevj4-",
        "outputId": "aeb4d2cf-e862-41cc-eb10-997671b8fd83"
      },
      "execution_count": 65,
      "outputs": [
        {
          "output_type": "execute_result",
          "data": {
            "text/plain": [
              "'Amitabh Bachchan'"
            ],
            "application/vnd.google.colaboratory.intrinsic+json": {
              "type": "string"
            }
          },
          "metadata": {},
          "execution_count": 65
        }
      ]
    },
    {
      "cell_type": "code",
      "source": [
        "len(first_name)       #lenth of string"
      ],
      "metadata": {
        "colab": {
          "base_uri": "https://localhost:8080/"
        },
        "id": "kI3cAXRbwBrL",
        "outputId": "5772915c-6da2-4496-f814-2e6517e8cbd0"
      },
      "execution_count": 66,
      "outputs": [
        {
          "output_type": "execute_result",
          "data": {
            "text/plain": [
              "7"
            ]
          },
          "metadata": {},
          "execution_count": 66
        }
      ]
    },
    {
      "cell_type": "markdown",
      "source": [
        "RILE OR CONVENTION : The index of data starts from zero i.e 0. So if you have 7 data units their address will be 0,1,2,3,4,5,6"
      ],
      "metadata": {
        "id": "8diJlj8Gwadl"
      }
    },
    {
      "cell_type": "code",
      "source": [
        "first_name[0]    #Enclose in square bracket"
      ],
      "metadata": {
        "colab": {
          "base_uri": "https://localhost:8080/",
          "height": 35
        },
        "id": "Uaz1uAeBwZAP",
        "outputId": "c3ba2b92-da59-4248-8567-4f30fc283ed7"
      },
      "execution_count": 67,
      "outputs": [
        {
          "output_type": "execute_result",
          "data": {
            "text/plain": [
              "'A'"
            ],
            "application/vnd.google.colaboratory.intrinsic+json": {
              "type": "string"
            }
          },
          "metadata": {},
          "execution_count": 67
        }
      ]
    },
    {
      "cell_type": "code",
      "source": [
        "first_name[1]"
      ],
      "metadata": {
        "colab": {
          "base_uri": "https://localhost:8080/",
          "height": 35
        },
        "id": "8S6Eb8Flw58c",
        "outputId": "bc2562ca-034c-4581-964f-28e84aade66d"
      },
      "execution_count": 68,
      "outputs": [
        {
          "output_type": "execute_result",
          "data": {
            "text/plain": [
              "'m'"
            ],
            "application/vnd.google.colaboratory.intrinsic+json": {
              "type": "string"
            }
          },
          "metadata": {},
          "execution_count": 68
        }
      ]
    },
    {
      "cell_type": "code",
      "source": [
        "first_name[0] = 'a' #strings are immutable, lists can be change but not the strings"
      ],
      "metadata": {
        "colab": {
          "base_uri": "https://localhost:8080/",
          "height": 166
        },
        "id": "QKatGAjDw9U7",
        "outputId": "3a161337-96b3-46e2-e67e-e201388ebdd4"
      },
      "execution_count": 70,
      "outputs": [
        {
          "output_type": "error",
          "ename": "TypeError",
          "evalue": "ignored",
          "traceback": [
            "\u001b[0;31m---------------------------------------------------------------------------\u001b[0m",
            "\u001b[0;31mTypeError\u001b[0m                                 Traceback (most recent call last)",
            "\u001b[0;32m<ipython-input-70-cf30d322e1e5>\u001b[0m in \u001b[0;36m<module>\u001b[0;34m\u001b[0m\n\u001b[0;32m----> 1\u001b[0;31m \u001b[0mfirst_name\u001b[0m\u001b[0;34m[\u001b[0m\u001b[0;36m0\u001b[0m\u001b[0;34m]\u001b[0m \u001b[0;34m=\u001b[0m \u001b[0;34m'a'\u001b[0m \u001b[0;31m#strings are immutable, lists can be change but not the strings\u001b[0m\u001b[0;34m\u001b[0m\u001b[0;34m\u001b[0m\u001b[0m\n\u001b[0m",
            "\u001b[0;31mTypeError\u001b[0m: 'str' object does not support item assignment"
          ]
        }
      ]
    },
    {
      "cell_type": "code",
      "source": [],
      "metadata": {
        "id": "7zwOCy7axDfi"
      },
      "execution_count": null,
      "outputs": []
    }
  ]
}